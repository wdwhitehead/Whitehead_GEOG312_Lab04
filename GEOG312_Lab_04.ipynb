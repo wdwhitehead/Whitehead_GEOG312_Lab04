{
  "cells": [
    {
      "cell_type": "markdown",
      "metadata": {
        "id": "XAMGss5ZyrsN"
      },
      "source": [
        "[![image](https://colab.research.google.com/assets/colab-badge.svg)](https://colab.research.google.com/github/giswqs/geog-312/blob/master/labs/lab_04.ipynb)\n",
        "[![image](https://binder.pangeo.io/badge_logo.svg)](https://gishub.org/geog312-pangeo)\n",
        "\n",
        "**Will Whitehead**"
      ]
    },
    {
      "cell_type": "code",
      "execution_count": 1,
      "metadata": {
        "colab": {
          "base_uri": "https://localhost:8080/"
        },
        "id": "SUBw9l7-yrsQ",
        "outputId": "60244834-2913-4f53-ede9-1064cd5e2a4c"
      },
      "outputs": [
        {
          "output_type": "stream",
          "name": "stdout",
          "text": [
            "Submitted time: 2023-12-04 17:06:09.564713\n"
          ]
        }
      ],
      "source": [
        "from datetime import datetime\n",
        "\n",
        "now = datetime.now()\n",
        "print(f\"Submitted time: {now}\")"
      ]
    },
    {
      "cell_type": "markdown",
      "metadata": {
        "id": "JzINsis6yrsR"
      },
      "source": [
        "## Question 1\n",
        "**Alien Colors # 1:** Imagine an alien was just shot down in a game. Create a variable called `alien_color` and assign it a value of `green, yellow,` or `red`.\n",
        "\n",
        "* Write an if statement to test whether the alien’s color is green. If it is, print a message that the player just earned 5 points.\n",
        "* Write one version of this program that passes the if test and another that fails. (The version that fails will have no output.)"
      ]
    },
    {
      "cell_type": "code",
      "execution_count": 3,
      "metadata": {
        "colab": {
          "base_uri": "https://localhost:8080/"
        },
        "id": "CfF7PbOxyrsS",
        "outputId": "e5c1f5f3-9793-423b-b10f-971df09e77ec"
      },
      "outputs": [
        {
          "output_type": "stream",
          "name": "stdout",
          "text": [
            "You just earned 5 points!\n"
          ]
        }
      ],
      "source": [
        "alien_color = 'green'\n",
        "if alien_color == 'green':\n",
        "    print('You just earned 5 points!')\n"
      ]
    },
    {
      "cell_type": "code",
      "source": [
        "alien_color = 'red'\n",
        "if alien_color == 'green':\n",
        "    print('You just earned 5 points!')\n",
        ""
      ],
      "metadata": {
        "id": "Jl5WR5c90Ntz"
      },
      "execution_count": 4,
      "outputs": []
    },
    {
      "cell_type": "markdown",
      "metadata": {
        "id": "4dtfYS53yrsS"
      },
      "source": [
        "## Question 2\n",
        "**Alien Colors # 2:** Choose a color for an alien as you did in Question 1, and write an `if-else` chain.\n",
        "\n",
        "* If the alien’s color is green, print a statement that the player just earned 5 points for shooting the alien.\n",
        "* If the alien’s color isn’t green, print a statement that the player just earned 10 points.\n",
        "* Write one version of this program that runs the if block and another that runs the else block."
      ]
    },
    {
      "cell_type": "code",
      "execution_count": 1,
      "metadata": {
        "colab": {
          "base_uri": "https://localhost:8080/"
        },
        "id": "Wb9pOBREyrsS",
        "outputId": "98557112-4ddd-41ef-e2ec-a5f934fcffdc"
      },
      "outputs": [
        {
          "output_type": "stream",
          "name": "stdout",
          "text": [
            "You just earned 5 points!\n"
          ]
        }
      ],
      "source": [
        "alien_color = 'green'\n",
        "if alien_color == 'green':\n",
        "  print('You just earned 5 points!')\n",
        "else:\n",
        "  print('You just earned 10 points!')"
      ]
    },
    {
      "cell_type": "code",
      "source": [
        "alien_color = 'red'\n",
        "if alien_color == 'green':\n",
        "  print('You just earned 5 points!')\n",
        "else:\n",
        "  print('You just earned 10 points!')"
      ],
      "metadata": {
        "colab": {
          "base_uri": "https://localhost:8080/"
        },
        "id": "nkOATARSWrrV",
        "outputId": "12a16246-7bac-481a-8a2d-bba9d43e538a"
      },
      "execution_count": 2,
      "outputs": [
        {
          "output_type": "stream",
          "name": "stdout",
          "text": [
            "You just earned 10 points!\n"
          ]
        }
      ]
    },
    {
      "cell_type": "markdown",
      "metadata": {
        "id": "AJzTZqIVyrsT"
      },
      "source": [
        "## Question 3\n",
        "**Alien Colors # 3:** Turn your `if-else` chain from Question 2 into an `if-elif-else` chain.\n",
        "\n",
        "* If the alien is green, print a message that the player earned 5 points.\n",
        "* If the alien is yellow, print a message that the player earned 10 points.\n",
        "* If the alien is red, print a message that the player earned 15 points.\n",
        "* Write three versions of this program, making sure each message is printed for the appropriate color alien."
      ]
    },
    {
      "cell_type": "code",
      "execution_count": 6,
      "metadata": {
        "colab": {
          "base_uri": "https://localhost:8080/"
        },
        "id": "CvBWix7jyrsT",
        "outputId": "941e2581-b9aa-45da-8290-6dd12226d788"
      },
      "outputs": [
        {
          "output_type": "stream",
          "name": "stdout",
          "text": [
            "You just earned 5 points!\n"
          ]
        }
      ],
      "source": [
        "alien_color = 'green'\n",
        "if alien_color == 'green':\n",
        "  print('You just earned 5 points!')\n",
        "elif alien_color == 'yellow':\n",
        "  print('You just earned 10 points!')\n",
        "else:\n",
        "  print('You just earned 15 points!')"
      ]
    },
    {
      "cell_type": "code",
      "source": [
        "alien_color = 'yellow'\n",
        "if alien_color == 'green':\n",
        "  print('You just earned 5 points!')\n",
        "elif alien_color == 'yellow':\n",
        "  print('You just earned 10 points!')\n",
        "else:\n",
        "  print('You just earned 15 points!')"
      ],
      "metadata": {
        "id": "ilpbzF8WXHkv"
      },
      "execution_count": null,
      "outputs": []
    },
    {
      "cell_type": "code",
      "source": [
        "alien_color = 'red'\n",
        "if alien_color == 'green':\n",
        "  print('You just earned 5 points!')\n",
        "elif alien_color == 'yellow':\n",
        "  print('You just earned 10 points!')\n",
        "else:\n",
        "  print('You just earned 15 points!')"
      ],
      "metadata": {
        "id": "kwnz-HtDXHrc"
      },
      "execution_count": null,
      "outputs": []
    },
    {
      "cell_type": "markdown",
      "metadata": {
        "id": "XnCao6mjyrsT"
      },
      "source": [
        "## Question 4\n",
        "**Stages of Life:** Write an `if-elif-else` chain that determines a person’s stage of life. Set a value for the variable `age`, and then:\n",
        "\n",
        "* If the person is less than 2 years old, print a message that the person is a baby.\n",
        "* If the person is at least 2 years old but less than 4, print a message that the person is a toddler.\n",
        "* If the person is at least 4 years old but less than 13, print a message that the person is a kid.\n",
        "* If the person is at least 13 years old but less than 20, print a message that the person is a teenager.\n",
        "* If the person is at least 20 years old but less than 65, print a message that the person is an adult."
      ]
    },
    {
      "cell_type": "code",
      "execution_count": 10,
      "metadata": {
        "colab": {
          "base_uri": "https://localhost:8080/"
        },
        "id": "ysft6d0cyrsU",
        "outputId": "e9ab5743-3cff-4515-dd26-81c078a248de"
      },
      "outputs": [
        {
          "output_type": "stream",
          "name": "stdout",
          "text": [
            "You are a teenager.\n"
          ]
        }
      ],
      "source": [
        "age = 18\n",
        "if age < 2:\n",
        "  print('You are a baby.')\n",
        "elif age < 4:\n",
        "  print('You are a toddler.')\n",
        "elif age < 13:\n",
        "  print('You are a kid.')\n",
        "elif age < 20:\n",
        "  print('You are a teenager.')\n",
        "elif age < 65:\n",
        "  print('You are an adult.')"
      ]
    },
    {
      "cell_type": "markdown",
      "metadata": {
        "id": "KMlxMLQsyrsU"
      },
      "source": [
        "## Question 5\n",
        "**Favorite Fruit:** Make a list of your favorite fruits, and then write a series of independent `if` statements that check for certain fruits in your list.\n",
        "\n",
        "* Make a list of your three favorite fruits and call it favorite_fruits.\n",
        "* Write five if statements. Each should check whether a certain kind of fruit is in your list. If the fruit is in your list, the if block should print a statement, such as You really like bananas!"
      ]
    },
    {
      "cell_type": "code",
      "execution_count": 15,
      "metadata": {
        "colab": {
          "base_uri": "https://localhost:8080/"
        },
        "id": "97BaQYGiyrsU",
        "outputId": "484cc019-b7f4-4bc4-e493-1ed5a9635d2f"
      },
      "outputs": [
        {
          "output_type": "stream",
          "name": "stdout",
          "text": [
            "You really like bananas!\n",
            "You really like apples!\n",
            "You really like oranges!\n"
          ]
        }
      ],
      "source": [
        "favorite_fruits = ['banana', 'apple', 'orange',]\n",
        "if 'banana' in favorite_fruits:\n",
        "  print('You really like bananas!')\n",
        "if 'apple' in favorite_fruits:\n",
        "  print('You really like apples!')\n",
        "if 'orange' in favorite_fruits:\n",
        "  print('You really like oranges!')\n",
        "if 'grape' in favorite_fruits:\n",
        "  print('You really like grapes!')\n",
        "if 'passionfruit' in favorite_fruits:\n",
        "  print('You really like passionfruit!')"
      ]
    },
    {
      "cell_type": "markdown",
      "metadata": {
        "id": "CT2XK9b9yrsU"
      },
      "source": [
        "## Question 6\n",
        "**Hello Admin:** Make a list of five or more usernames, including the name `admin`. Imagine you are writing code that will print a greeting to each user after they log in to a website. Loop through the list, and print a greeting to each user:\n",
        "\n",
        "* If the username is 'admin', print a special greeting, such as *Hello admin, would you like to see a status report?*\n",
        "* Otherwise, print a generic greeting, such as *Hello Jaden, thank you for logging in again*."
      ]
    },
    {
      "cell_type": "code",
      "execution_count": 17,
      "metadata": {
        "colab": {
          "base_uri": "https://localhost:8080/"
        },
        "id": "sXsvzTeGyrsU",
        "outputId": "f4c35e46-6b6a-4cd8-ce1e-1de310d932a5"
      },
      "outputs": [
        {
          "output_type": "stream",
          "name": "stdout",
          "text": [
            "Hellow admin, would you like to see a status report?\n",
            "Hello, wwhitehead, thank you for logging in.\n",
            "Hello, jbrown, thank you for logging in.\n",
            "Hello, asmith, thank you for logging in.\n",
            "Hello, oanthony, thank you for logging in.\n"
          ]
        }
      ],
      "source": [
        "usernames = ['admin', 'wwhitehead', 'jbrown', 'asmith', 'oanthony']\n",
        "for username in usernames:\n",
        "  if username == 'admin':\n",
        "    print('Hellow admin, would you like to see a status report?')\n",
        "  else:\n",
        "    print(f'Hello, {username}, thank you for logging in.')"
      ]
    },
    {
      "cell_type": "markdown",
      "metadata": {
        "id": "KDWhgBdEyrsV"
      },
      "source": [
        "## Question 7\n",
        "**No Users:** Based on Question 6, add an `if` test to make sure the list of users is not empty.\n",
        "\n",
        "* If the list is empty, print the message *We need to find some users!*\n",
        "* Remove all of the usernames from your list, and make sure the correct message is printed."
      ]
    },
    {
      "cell_type": "code",
      "execution_count": 23,
      "metadata": {
        "colab": {
          "base_uri": "https://localhost:8080/"
        },
        "id": "lE7TWVjWyrsV",
        "outputId": "6c6819f5-9a48-414b-d7b2-080b1ba6f30d"
      },
      "outputs": [
        {
          "output_type": "stream",
          "name": "stdout",
          "text": [
            "We need to find some users!\n"
          ]
        }
      ],
      "source": [
        "usernames = []\n",
        "if usernames:\n",
        "  for username in usernames:\n",
        "    if username == 'admin':\n",
        "      print('Hellow admin, would you like to see a status report?')\n",
        "    else:\n",
        "      print(f'Hello, {username}, thank you for logging in.')\n",
        "else:\n",
        "  print('We need to find some users!')"
      ]
    },
    {
      "cell_type": "markdown",
      "metadata": {
        "id": "Cue8cbQNyrsV"
      },
      "source": [
        "## Question 8\n",
        "**Checking Usernames:** Do the following to create a program that simulates how websites ensure that everyone has a unique username.\n",
        "\n",
        "* Make a list of five or more usernames called `current_users`.\n",
        "*  Make another list of five usernames called `new_users`. Make sure one or two of the new usernames are also in the `current_users` list.\n",
        "* Loop through the `new_users` list to see if each new username has already been used. If it has, print a message that the person will need to enter a new username. If a username has not been used, print a message saying that the username is available.\n",
        "* Make sure your comparison is case insensitive. If 'John' has been used, 'JOHN' should not be accepted. (To do this, you’ll need to make a copy of `current_users` containing the lowercase versions of all existing users.)"
      ]
    },
    {
      "cell_type": "code",
      "execution_count": 26,
      "metadata": {
        "colab": {
          "base_uri": "https://localhost:8080/"
        },
        "id": "Ow_czj66yrsV",
        "outputId": "78fb809c-eb5f-46b4-cd2a-7b0c8d263270"
      },
      "outputs": [
        {
          "output_type": "stream",
          "name": "stdout",
          "text": [
            "That username is available! Welcome to the site!\n",
            "Sorry, that username is taken. You'll need to pick another.\n",
            "That username is available! Welcome to the site!\n",
            "Sorry, that username is taken. You'll need to pick another.\n",
            "That username is available! Welcome to the site!\n"
          ]
        }
      ],
      "source": [
        "current_users = ['wwhitehead', 'jbrown', 'asmith', 'oanthony', 'dolykos']\n",
        "new_users = ['fbaggins', 'dolykos', 'akholin', 'asmith', 'sdavar']\n",
        "for username in new_users:\n",
        "  if username in current_users:\n",
        "    print(\"Sorry, that username is taken. You'll need to pick another.\")\n",
        "  else:\n",
        "    print('That username is available! Welcome to the site!')"
      ]
    },
    {
      "cell_type": "markdown",
      "metadata": {
        "id": "cYTXkoldyrsV"
      },
      "source": [
        "## Question 9\n",
        "**Ordinal Numbers:** Ordinal numbers indicate their position in a list, such as *1st* or *2nd*. Most ordinal numbers end in *th*, except 1, 2, and 3.\n",
        "\n",
        "* Store the numbers 1 through 9 in a list.\n",
        "* Loop through the list.\n",
        "* Use an `if-elif-else` chain inside the loop to print the proper ordinal ending for each number. Your output should read \"1st 2nd 3rd 4th 5th 6th 7th 8th 9th\", and each result should be on a separate line."
      ]
    },
    {
      "cell_type": "code",
      "execution_count": 28,
      "metadata": {
        "colab": {
          "base_uri": "https://localhost:8080/"
        },
        "id": "tnLoKJavyrsW",
        "outputId": "d2a954b4-0608-4720-c636-533d6100e73f"
      },
      "outputs": [
        {
          "output_type": "stream",
          "name": "stdout",
          "text": [
            "1st\n",
            "2nd\n",
            "3rd\n",
            "4th\n",
            "5th\n",
            "6th\n",
            "7th\n",
            "8th\n",
            "9th\n"
          ]
        }
      ],
      "source": [
        "numbers = [1,2,3,4,5,6,7,8,9]\n",
        "for number in numbers:\n",
        "  if number == 1:\n",
        "    print(f'{number}st')\n",
        "  elif number == 2:\n",
        "    print(f'{number}nd')\n",
        "  elif number == 3:\n",
        "    print(f'{number}rd')\n",
        "  else:\n",
        "    print(f'{number}th')"
      ]
    }
  ],
  "metadata": {
    "kernelspec": {
      "display_name": "Python 3 (ipykernel)",
      "language": "python",
      "name": "python3"
    },
    "language_info": {
      "codemirror_mode": {
        "name": "ipython",
        "version": 3
      },
      "file_extension": ".py",
      "mimetype": "text/x-python",
      "name": "python",
      "nbconvert_exporter": "python",
      "pygments_lexer": "ipython3",
      "version": "3.8.10"
    },
    "colab": {
      "provenance": []
    }
  },
  "nbformat": 4,
  "nbformat_minor": 0
}